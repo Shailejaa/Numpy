{
 "cells": [
  {
   "cell_type": "markdown",
   "id": "e2bd4f17",
   "metadata": {},
   "source": [
    "# Numpy -\n",
    "##### Numpy is a Python library used to perform mathematical operations. In Numpy library, there are pre-defined functions for example, mean, sum or any mathematical operations which we can use.\n",
    "## Why Numpy -\n",
    "##### Because of Array we can easily perform any operations effectively and efficiently. Numpy is  also used to get random selection of data as sampling. Numpy can read and write the data from local pc."
   ]
  },
  {
   "cell_type": "markdown",
   "id": "14d57c03",
   "metadata": {},
   "source": [
    "# Array -\n",
    "##### An array is collection of information. Every ndarray is a combination of n-1array. For example, 3D is a combination of 2D arrays.\n",
    "## Why Array - \n",
    "##### Homogeneous data - as an array includes homogeneous data it executes operation fast and efficient.\n",
    "##### We can add, remove or update any elements in an array.\n",
    "##### It is built over pandas which is why we need to learn numpy first."
   ]
  },
  {
   "cell_type": "markdown",
   "id": "74da8d1f",
   "metadata": {},
   "source": [
    "## How to start using Numpy:"
   ]
  },
  {
   "cell_type": "markdown",
   "id": "df6a6dd9",
   "metadata": {},
   "source": [
    "##### To use Numpy, one must first call/import Numpy to use its predefined functions."
   ]
  },
  {
   "cell_type": "code",
   "execution_count": 1,
   "id": "09571e69",
   "metadata": {},
   "outputs": [],
   "source": [
    "import numpy as np"
   ]
  },
  {
   "cell_type": "markdown",
   "id": "ecf1e45c",
   "metadata": {},
   "source": [
    "##### To check version of Numpy:\n"
   ]
  },
  {
   "cell_type": "code",
   "execution_count": 2,
   "id": "c2547253",
   "metadata": {},
   "outputs": [
    {
     "name": "stdout",
     "output_type": "stream",
     "text": [
      "1.20.3\n"
     ]
    }
   ],
   "source": [
    "\n",
    "print(np.__version__)"
   ]
  },
  {
   "cell_type": "markdown",
   "id": "dd9b3261",
   "metadata": {},
   "source": [
    "# Types of an Array:\n",
    "##### An array could be 1d, 2d, 3d or any number of multidimensional."
   ]
  },
  {
   "cell_type": "markdown",
   "id": "9b521f53",
   "metadata": {},
   "source": [
    "##### creating 1D array:"
   ]
  },
  {
   "cell_type": "code",
   "execution_count": 3,
   "id": "c58085a7",
   "metadata": {},
   "outputs": [
    {
     "data": {
      "text/plain": [
       "array([   1,   10, 1997,    7,   11, 1997])"
      ]
     },
     "execution_count": 3,
     "metadata": {},
     "output_type": "execute_result"
    }
   ],
   "source": [
    "jk = np.array([1,10,1997,7,11,1997])\n",
    "jk"
   ]
  },
  {
   "cell_type": "markdown",
   "id": "60e6433f",
   "metadata": {},
   "source": [
    "##### here you can identify array with the number of closing square bracket like here it is only 1 square bracket, so it is 1D array."
   ]
  },
  {
   "cell_type": "markdown",
   "id": "d0b83792",
   "metadata": {},
   "source": [
    "##### To check the type of an object:"
   ]
  },
  {
   "cell_type": "code",
   "execution_count": 4,
   "id": "7806fafb",
   "metadata": {},
   "outputs": [
    {
     "data": {
      "text/plain": [
       "numpy.ndarray"
      ]
     },
     "execution_count": 4,
     "metadata": {},
     "output_type": "execute_result"
    }
   ],
   "source": [
    "type(jk)"
   ]
  },
  {
   "cell_type": "markdown",
   "id": "14009680",
   "metadata": {},
   "source": [
    "##### To check datatype of elements in an array:"
   ]
  },
  {
   "cell_type": "code",
   "execution_count": 6,
   "id": "77ccbdfc",
   "metadata": {},
   "outputs": [
    {
     "data": {
      "text/plain": [
       "dtype('int32')"
      ]
     },
     "execution_count": 6,
     "metadata": {},
     "output_type": "execute_result"
    }
   ],
   "source": [
    "jk.dtype"
   ]
  },
  {
   "cell_type": "markdown",
   "id": "50e3e6e5",
   "metadata": {},
   "source": [
    "##### *above datatype is integer but if needed we can also change int into float or any other datatype as well."
   ]
  },
  {
   "cell_type": "markdown",
   "id": "eb78ddee",
   "metadata": {},
   "source": [
    "##### Can determine the datatype will creating an array:"
   ]
  },
  {
   "cell_type": "code",
   "execution_count": 8,
   "id": "8b7fc6cd",
   "metadata": {},
   "outputs": [
    {
     "data": {
      "text/plain": [
       "array([ 1., 10., 19.,  7., 11., 19.])"
      ]
     },
     "execution_count": 8,
     "metadata": {},
     "output_type": "execute_result"
    }
   ],
   "source": [
    "jk = np.array([1,10,19,7,11,19],dtype='float')\n",
    "jk"
   ]
  },
  {
   "attachments": {
    "2022-07-02%20%284%29.png": {
     "image/png": "[encoded data removed]"
    }
   },
   "cell_type": "markdown",
   "id": "24c920cc",
   "metadata": {},
   "source": [
    "### **To know what all parameters we can pass just press 'SHIFT + TAB' inside an array.\n",
    "\n",
    "\n",
    "\n",
    "\n",
    "![2022-07-02%20%284%29.png](attachment:2022-07-02%20%284%29.png)"
   ]
  },
  {
   "cell_type": "markdown",
   "id": "89d0e391",
   "metadata": {},
   "source": [
    "##### To convert 1D data into multidimensional array, we can also do that directly from with just one line:\n",
    "###### so in the below example, converting 1D array into 2D array:"
   ]
  },
  {
   "cell_type": "code",
   "execution_count": 9,
   "id": "1f29580f",
   "metadata": {},
   "outputs": [
    {
     "data": {
      "text/plain": [
       "array([[   1,   10, 1997,    7,   11, 1997]])"
      ]
     },
     "execution_count": 9,
     "metadata": {},
     "output_type": "execute_result"
    }
   ],
   "source": [
    "jk = np.array([1,10,1997,7,11,1997],ndmin = 2)\n",
    "jk"
   ]
  },
  {
   "cell_type": "markdown",
   "id": "28091d8e",
   "metadata": {},
   "source": [
    "##### So we can convert into ndarray with just 'ndmin' parameter."
   ]
  },
  {
   "cell_type": "markdown",
   "id": "3f69d5f0",
   "metadata": {},
   "source": [
    "# Attributes of an Array - \n",
    "###### to check about array: \n",
    "\n",
    " ##### shape - returns the length of an array like number of rows and column in an array (2,2) for 2d array or (3,2,3) for 3d array.\n",
    " ##### ndim - returns the number of dimension like 2d or 3d array.\n",
    " ##### dtype - tells about the datatype of an element in an array.\n",
    " ##### itemsize - returns the size (in bytes) of each element of an array.\n",
    " ##### nbytes - gives the total bytes consumed by the elements of the array."
   ]
  },
  {
   "cell_type": "markdown",
   "id": "accceb5b",
   "metadata": {},
   "source": [
    "##### below example explains it clearly"
   ]
  },
  {
   "cell_type": "markdown",
   "id": "ed2cddba",
   "metadata": {},
   "source": [
    "##### Exercise: Create a 2d array of shape 3,3 as a float dtype and print all its attribute"
   ]
  },
  {
   "cell_type": "code",
   "execution_count": 6,
   "id": "97720f52",
   "metadata": {},
   "outputs": [
    {
     "name": "stdout",
     "output_type": "stream",
     "text": [
      "(3, 3)\n",
      "2\n",
      "float64\n",
      "8\n",
      "72\n"
     ]
    }
   ],
   "source": [
    "a = np.array([[1,2,3],[4,5,6],[7,8,9]], dtype = 'float')\n",
    "a\n",
    "print(a.shape)\n",
    "print(a.ndim)\n",
    "print(a.dtype)\n",
    "print(a.itemsize)\n",
    "print(a.nbytes)"
   ]
  },
  {
   "cell_type": "markdown",
   "id": "1d07d1c0",
   "metadata": {},
   "source": [
    "# Indexing: Tomorrow's revision\n",
    "\n",
    "##### a)Extraction.\n",
    "##### b)Slicing.\n",
    "##### c)Conditional selection."
   ]
  },
  {
   "cell_type": "code",
   "execution_count": null,
   "id": "917c0e5c",
   "metadata": {},
   "outputs": [],
   "source": []
  },
  {
   "cell_type": "code",
   "execution_count": null,
   "id": "4fb2705c",
   "metadata": {},
   "outputs": [],
   "source": []
  },
  {
   "cell_type": "code",
   "execution_count": null,
   "id": "91d2e6b7",
   "metadata": {},
   "outputs": [],
   "source": []
  },
  {
   "cell_type": "code",
   "execution_count": null,
   "id": "a3167c1a",
   "metadata": {},
   "outputs": [],
   "source": []
  },
  {
   "cell_type": "code",
   "execution_count": null,
   "id": "6b313c0f",
   "metadata": {},
   "outputs": [],
   "source": []
  }
 ],
 "metadata": {
  "kernelspec": {
   "display_name": "Python 3 (ipykernel)",
   "language": "python",
   "name": "python3"
  },
  "language_info": {
   "codemirror_mode": {
    "name": "ipython",
    "version": 3
   },
   "file_extension": ".py",
   "mimetype": "text/x-python",
   "name": "python",
   "nbconvert_exporter": "python",
   "pygments_lexer": "ipython3",
   "version": "3.9.7"
  }
 },
 "nbformat": 4,
 "nbformat_minor": 5
}
