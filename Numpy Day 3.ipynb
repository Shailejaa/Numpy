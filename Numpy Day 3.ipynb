{
 "cells": [
  {
   "cell_type": "markdown",
   "id": "02fb7799",
   "metadata": {},
   "source": [
    "# Summary statistics:\n",
    "\n",
    "##### In a simple understanding, it gives information about data."
   ]
  },
  {
   "cell_type": "markdown",
   "id": "e79a594b",
   "metadata": {},
   "source": [
    "##### all below functions are measures of central tendency and measures of spread. Didnt explained but there is alot information about them on online, so I recommend go through google for meaning because here its only code."
   ]
  },
  {
   "cell_type": "code",
   "execution_count": 3,
   "id": "a1c93d5e",
   "metadata": {},
   "outputs": [],
   "source": [
    "import numpy as np"
   ]
  },
  {
   "cell_type": "code",
   "execution_count": 4,
   "id": "dddd2530",
   "metadata": {},
   "outputs": [
    {
     "data": {
      "text/plain": [
       "array([1, 2, 3, 4, 5, 6, 7, 8, 9])"
      ]
     },
     "execution_count": 4,
     "metadata": {},
     "output_type": "execute_result"
    }
   ],
   "source": [
    "a = np.arange(1,10)\n",
    "a"
   ]
  },
  {
   "cell_type": "markdown",
   "id": "2a0422ba",
   "metadata": {},
   "source": [
    "# .mean()"
   ]
  },
  {
   "cell_type": "code",
   "execution_count": 5,
   "id": "0f7da5d3",
   "metadata": {},
   "outputs": [
    {
     "data": {
      "text/plain": [
       "5.0"
      ]
     },
     "execution_count": 5,
     "metadata": {},
     "output_type": "execute_result"
    }
   ],
   "source": [
    "a.mean()"
   ]
  },
  {
   "cell_type": "markdown",
   "id": "875b8b1a",
   "metadata": {},
   "source": [
    "# .min()"
   ]
  },
  {
   "cell_type": "code",
   "execution_count": 7,
   "id": "e5bb4044",
   "metadata": {},
   "outputs": [
    {
     "data": {
      "text/plain": [
       "1"
      ]
     },
     "execution_count": 7,
     "metadata": {},
     "output_type": "execute_result"
    }
   ],
   "source": [
    "a.min()"
   ]
  },
  {
   "cell_type": "markdown",
   "id": "818607e9",
   "metadata": {},
   "source": [
    "# .max()"
   ]
  },
  {
   "cell_type": "code",
   "execution_count": 8,
   "id": "1d885de6",
   "metadata": {},
   "outputs": [
    {
     "data": {
      "text/plain": [
       "9"
      ]
     },
     "execution_count": 8,
     "metadata": {},
     "output_type": "execute_result"
    }
   ],
   "source": [
    "a.max()"
   ]
  },
  {
   "cell_type": "markdown",
   "id": "3fd784c8",
   "metadata": {},
   "source": [
    "# .sum()"
   ]
  },
  {
   "cell_type": "code",
   "execution_count": 11,
   "id": "4bfffbf6",
   "metadata": {},
   "outputs": [
    {
     "data": {
      "text/plain": [
       "45"
      ]
     },
     "execution_count": 11,
     "metadata": {},
     "output_type": "execute_result"
    }
   ],
   "source": [
    "a.sum()"
   ]
  },
  {
   "cell_type": "markdown",
   "id": "5841a137",
   "metadata": {},
   "source": [
    "# .std()"
   ]
  },
  {
   "cell_type": "code",
   "execution_count": 12,
   "id": "a6e8b268",
   "metadata": {},
   "outputs": [
    {
     "data": {
      "text/plain": [
       "2.581988897471611"
      ]
     },
     "execution_count": 12,
     "metadata": {},
     "output_type": "execute_result"
    }
   ],
   "source": [
    "a.std()"
   ]
  },
  {
   "cell_type": "markdown",
   "id": "e7fb881f",
   "metadata": {},
   "source": [
    "# .var()"
   ]
  },
  {
   "cell_type": "code",
   "execution_count": 13,
   "id": "27041eff",
   "metadata": {},
   "outputs": [
    {
     "data": {
      "text/plain": [
       "6.666666666666667"
      ]
     },
     "execution_count": 13,
     "metadata": {},
     "output_type": "execute_result"
    }
   ],
   "source": [
    "a.var()"
   ]
  },
  {
   "cell_type": "markdown",
   "id": "da98c3fd",
   "metadata": {},
   "source": [
    "### Implication on 2D array"
   ]
  },
  {
   "cell_type": "code",
   "execution_count": 14,
   "id": "1ccf3fdc",
   "metadata": {},
   "outputs": [
    {
     "data": {
      "text/plain": [
       "array([[ 1,  2,  3,  4,  5],\n",
       "       [ 6,  7,  8,  9, 10],\n",
       "       [11, 12, 13, 14, 15],\n",
       "       [16, 17, 18, 19, 20]])"
      ]
     },
     "execution_count": 14,
     "metadata": {},
     "output_type": "execute_result"
    }
   ],
   "source": [
    "b = np.arange(1,21).reshape(4,5)\n",
    "b"
   ]
  },
  {
   "cell_type": "markdown",
   "id": "3acec5c2",
   "metadata": {},
   "source": [
    "##### note: axis = 0 represents row and axis = 1 represents columns"
   ]
  },
  {
   "cell_type": "markdown",
   "id": "3dff4aba",
   "metadata": {},
   "source": [
    "###### finding mean row-wise:"
   ]
  },
  {
   "cell_type": "code",
   "execution_count": 18,
   "id": "623e6892",
   "metadata": {},
   "outputs": [
    {
     "data": {
      "text/plain": [
       "array([ 8.5,  9.5, 10.5, 11.5, 12.5])"
      ]
     },
     "execution_count": 18,
     "metadata": {},
     "output_type": "execute_result"
    }
   ],
   "source": [
    "b.mean(axis=0)"
   ]
  },
  {
   "cell_type": "markdown",
   "id": "d6504f1e",
   "metadata": {},
   "source": [
    "###### finding mean column-wise:"
   ]
  },
  {
   "cell_type": "code",
   "execution_count": 20,
   "id": "f6f1f8a0",
   "metadata": {},
   "outputs": [
    {
     "data": {
      "text/plain": [
       "array([ 3.,  8., 13., 18.])"
      ]
     },
     "execution_count": 20,
     "metadata": {},
     "output_type": "execute_result"
    }
   ],
   "source": [
    "b.mean(axis=1)"
   ]
  },
  {
   "cell_type": "markdown",
   "id": "6d41ae40",
   "metadata": {},
   "source": [
    "###### finding mean as a whole:"
   ]
  },
  {
   "cell_type": "code",
   "execution_count": 21,
   "id": "d2318106",
   "metadata": {},
   "outputs": [
    {
     "data": {
      "text/plain": [
       "10.5"
      ]
     },
     "execution_count": 21,
     "metadata": {},
     "output_type": "execute_result"
    }
   ],
   "source": [
    "b.mean()"
   ]
  },
  {
   "cell_type": "markdown",
   "id": "32a139d6",
   "metadata": {},
   "source": [
    "##### same can be done with .std() and other fucntions as well."
   ]
  },
  {
   "cell_type": "markdown",
   "id": "29fe5ccc",
   "metadata": {},
   "source": [
    "# Vectorized operations:\n",
    "##### The concept of vectorized operations on NumPy allows the use of more optimal and pre-compiled functions and mathematical operations on NumPy array objects and data sequences. The Output and Operations will speed up when compared to simple non-vectorized operations. (pasted from Google)."
   ]
  },
  {
   "attachments": {
    "vectorized%20vs%20nonvectorized.png": {
     "image/png": "[encoded data removed]"
    }
   },
   "cell_type": "markdown",
   "id": "48a82203",
   "metadata": {},
   "source": [
    "# ![vectorized%20vs%20nonvectorized.png](attachment:vectorized%20vs%20nonvectorized.png)"
   ]
  },
  {
   "cell_type": "markdown",
   "id": "6557135e",
   "metadata": {},
   "source": [
    "##### from this above image, it is bit cleared that non vectorized operations means peforming same operation everytime/for single cell. Whereas vectorized operations sum up all elements in an array and performs an operation. (credits to the above image belows to the original owner)"
   ]
  },
  {
   "cell_type": "code",
   "execution_count": 22,
   "id": "f808d524",
   "metadata": {},
   "outputs": [
    {
     "data": {
      "text/plain": [
       "array([0, 1, 2, 3, 4, 5, 6, 7, 8, 9])"
      ]
     },
     "execution_count": 22,
     "metadata": {},
     "output_type": "execute_result"
    }
   ],
   "source": [
    "a = np.arange(10)\n",
    "a"
   ]
  },
  {
   "cell_type": "code",
   "execution_count": 23,
   "id": "2c1ef696",
   "metadata": {},
   "outputs": [
    {
     "data": {
      "text/plain": [
       "array([100, 101, 102, 103, 104, 105, 106, 107, 108, 109])"
      ]
     },
     "execution_count": 23,
     "metadata": {},
     "output_type": "execute_result"
    }
   ],
   "source": [
    "a+100"
   ]
  },
  {
   "cell_type": "code",
   "execution_count": 24,
   "id": "fd03f20a",
   "metadata": {},
   "outputs": [
    {
     "data": {
      "text/plain": [
       "array([ 0,  2,  4,  6,  8, 10, 12, 14, 16, 18])"
      ]
     },
     "execution_count": 24,
     "metadata": {},
     "output_type": "execute_result"
    }
   ],
   "source": [
    "a*2"
   ]
  },
  {
   "cell_type": "code",
   "execution_count": 25,
   "id": "7338bd7d",
   "metadata": {},
   "outputs": [
    {
     "data": {
      "text/plain": [
       "array([0. , 0.5, 1. , 1.5, 2. , 2.5, 3. , 3.5, 4. , 4.5])"
      ]
     },
     "execution_count": 25,
     "metadata": {},
     "output_type": "execute_result"
    }
   ],
   "source": [
    "a/2"
   ]
  },
  {
   "cell_type": "code",
   "execution_count": 27,
   "id": "57e15a82",
   "metadata": {},
   "outputs": [
    {
     "data": {
      "text/plain": [
       "array([-1,  0,  1,  2,  3,  4,  5,  6,  7,  8])"
      ]
     },
     "execution_count": 27,
     "metadata": {},
     "output_type": "execute_result"
    }
   ],
   "source": [
    "a-1"
   ]
  },
  {
   "cell_type": "code",
   "execution_count": 28,
   "id": "3a60dc06",
   "metadata": {},
   "outputs": [
    {
     "data": {
      "text/plain": [
       "array([0, 1, 2, 3, 4, 5, 6, 7, 8, 9])"
      ]
     },
     "execution_count": 28,
     "metadata": {},
     "output_type": "execute_result"
    }
   ],
   "source": [
    "a"
   ]
  },
  {
   "cell_type": "markdown",
   "id": "d21f8e96",
   "metadata": {},
   "source": [
    "##### till now the elements in an array hasnt modified. so thats why it is printing original value means it was returning new array everytime we performed an operation."
   ]
  },
  {
   "cell_type": "markdown",
   "id": "0cdb677f",
   "metadata": {},
   "source": [
    "##### made a same array again and performed same task."
   ]
  },
  {
   "cell_type": "code",
   "execution_count": 43,
   "id": "a8555f6c",
   "metadata": {},
   "outputs": [
    {
     "data": {
      "text/plain": [
       "array([0, 1, 2, 3, 4, 5, 6, 7, 8, 9])"
      ]
     },
     "execution_count": 43,
     "metadata": {},
     "output_type": "execute_result"
    }
   ],
   "source": [
    "a = np.arange(10)\n",
    "a"
   ]
  },
  {
   "cell_type": "code",
   "execution_count": 44,
   "id": "0773d63d",
   "metadata": {},
   "outputs": [
    {
     "data": {
      "text/plain": [
       "array([10, 11, 12, 13, 14, 15, 16, 17, 18, 19])"
      ]
     },
     "execution_count": 44,
     "metadata": {},
     "output_type": "execute_result"
    }
   ],
   "source": [
    "a+10"
   ]
  },
  {
   "cell_type": "code",
   "execution_count": 45,
   "id": "e4ff992e",
   "metadata": {},
   "outputs": [
    {
     "data": {
      "text/plain": [
       "array([0, 1, 2, 3, 4, 5, 6, 7, 8, 9])"
      ]
     },
     "execution_count": 45,
     "metadata": {},
     "output_type": "execute_result"
    }
   ],
   "source": [
    "a"
   ]
  },
  {
   "cell_type": "markdown",
   "id": "c093de80",
   "metadata": {},
   "source": [
    "# Broadcasting operations:"
   ]
  },
  {
   "cell_type": "code",
   "execution_count": 48,
   "id": "f5e26ef2",
   "metadata": {},
   "outputs": [
    {
     "data": {
      "text/plain": [
       "array([20, 21, 22, 23, 24, 25, 26, 27, 28, 29])"
      ]
     },
     "execution_count": 48,
     "metadata": {},
     "output_type": "execute_result"
    }
   ],
   "source": [
    "a +=10\n",
    "a"
   ]
  },
  {
   "cell_type": "markdown",
   "id": "7d81a7d6",
   "metadata": {},
   "source": [
    "##### this time new array wasnt made but modified original array because of above code."
   ]
  },
  {
   "cell_type": "code",
   "execution_count": 49,
   "id": "fe5f1b63",
   "metadata": {},
   "outputs": [
    {
     "data": {
      "text/plain": [
       "array([20, 21, 22, 23, 24, 25, 26, 27, 28, 29])"
      ]
     },
     "execution_count": 49,
     "metadata": {},
     "output_type": "execute_result"
    }
   ],
   "source": [
    "a"
   ]
  },
  {
   "cell_type": "code",
   "execution_count": 51,
   "id": "a8710d94",
   "metadata": {},
   "outputs": [
    {
     "data": {
      "text/plain": [
       "array([20, 21, 22, 23, 24])"
      ]
     },
     "execution_count": 51,
     "metadata": {},
     "output_type": "execute_result"
    }
   ],
   "source": [
    "a = np.arange(5)\n",
    "a+20"
   ]
  },
  {
   "cell_type": "markdown",
   "id": "4d7b27fe",
   "metadata": {},
   "source": [
    "##### That's it for today, I guess next topic is quite important so I kept it for tomorrow like I will start it fresh."
   ]
  },
  {
   "cell_type": "code",
   "execution_count": null,
   "id": "91550f5c",
   "metadata": {},
   "outputs": [],
   "source": []
  },
  {
   "cell_type": "code",
   "execution_count": null,
   "id": "c27175e5",
   "metadata": {},
   "outputs": [],
   "source": []
  }
 ],
 "metadata": {
  "kernelspec": {
   "display_name": "Python 3 (ipykernel)",
   "language": "python",
   "name": "python3"
  },
  "language_info": {
   "codemirror_mode": {
    "name": "ipython",
    "version": 3
   },
   "file_extension": ".py",
   "mimetype": "text/x-python",
   "name": "python",
   "nbconvert_exporter": "python",
   "pygments_lexer": "ipython3",
   "version": "3.9.7"
  }
 },
 "nbformat": 4,
 "nbformat_minor": 5
}
