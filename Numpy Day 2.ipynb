{
 "cells": [
  {
   "cell_type": "markdown",
   "id": "e725a599",
   "metadata": {},
   "source": [
    "# .linspace():\n",
    "##### use np.linspace() to create an array with values that are spaced linearly in a specified interval. In simple language, to create an evenly spaced sequence in a specified interval."
   ]
  },
  {
   "cell_type": "code",
   "execution_count": 2,
   "id": "9780cae8",
   "metadata": {},
   "outputs": [],
   "source": [
    "import numpy as np"
   ]
  },
  {
   "cell_type": "code",
   "execution_count": 4,
   "id": "a0463262",
   "metadata": {},
   "outputs": [
    {
     "data": {
      "text/plain": [
       "array([ 1.  ,  3.25,  5.5 ,  7.75, 10.  ])"
      ]
     },
     "execution_count": 4,
     "metadata": {},
     "output_type": "execute_result"
    }
   ],
   "source": [
    "a = np.linspace(1,10, num=5)\n",
    "a"
   ]
  },
  {
   "cell_type": "markdown",
   "id": "1f155fea",
   "metadata": {},
   "source": [
    "# .arange():\n",
    "##### to create an array with range of elements."
   ]
  },
  {
   "cell_type": "code",
   "execution_count": 7,
   "id": "5af95d27",
   "metadata": {},
   "outputs": [
    {
     "data": {
      "text/plain": [
       "array([0, 1, 2, 3, 4, 5, 6, 7, 8, 9])"
      ]
     },
     "execution_count": 7,
     "metadata": {},
     "output_type": "execute_result"
    }
   ],
   "source": [
    "a = np.arange(10)\n",
    "a"
   ]
  },
  {
   "cell_type": "code",
   "execution_count": 10,
   "id": "07e9722d",
   "metadata": {},
   "outputs": [
    {
     "data": {
      "text/plain": [
       "array([100, 105, 110, 115, 120, 125, 130, 135, 140, 145, 150])"
      ]
     },
     "execution_count": 10,
     "metadata": {},
     "output_type": "execute_result"
    }
   ],
   "source": [
    "a = np.arange(100,151, step=5)\n",
    "\n",
    "a"
   ]
  },
  {
   "cell_type": "markdown",
   "id": "d2e89611",
   "metadata": {},
   "source": [
    "# .empty():\n",
    "##### np.empty() creates an array with random elements."
   ]
  },
  {
   "cell_type": "code",
   "execution_count": 27,
   "id": "1ded8123",
   "metadata": {},
   "outputs": [
    {
     "data": {
      "text/plain": [
       "array([10.])"
      ]
     },
     "execution_count": 27,
     "metadata": {},
     "output_type": "execute_result"
    }
   ],
   "source": [
    "a = np.empty(1)\n",
    "a"
   ]
  },
  {
   "cell_type": "code",
   "execution_count": 28,
   "id": "358f60f5",
   "metadata": {},
   "outputs": [
    {
     "data": {
      "text/plain": [
       "array([6.79038654e-313, 6.79038653e-313, 2.37663529e-312, 2.14321575e-312,\n",
       "       2.37663529e-312, 2.56761491e-312, 1.12465777e-312, 2.12199579e-313,\n",
       "       8.45596649e-307, 1.69121367e-306])"
      ]
     },
     "execution_count": 28,
     "metadata": {},
     "output_type": "execute_result"
    }
   ],
   "source": [
    "a = np.empty(10)\n",
    "a"
   ]
  },
  {
   "cell_type": "markdown",
   "id": "775066bc",
   "metadata": {},
   "source": [
    "# .ones():\n",
    "##### returns a new array of given shape and data type, where the elements's value is set to 1. Similar to .zeros()"
   ]
  },
  {
   "cell_type": "code",
   "execution_count": 3,
   "id": "077d9512",
   "metadata": {},
   "outputs": [
    {
     "data": {
      "text/plain": [
       "array([1., 1., 1., 1., 1.])"
      ]
     },
     "execution_count": 3,
     "metadata": {},
     "output_type": "execute_result"
    }
   ],
   "source": [
    "a = np.ones(5)\n",
    "a"
   ]
  },
  {
   "cell_type": "code",
   "execution_count": 19,
   "id": "39201b5a",
   "metadata": {},
   "outputs": [
    {
     "data": {
      "text/plain": [
       "array([[[1., 1., 1., 1., 1.],\n",
       "        [1., 1., 1., 1., 1.]],\n",
       "\n",
       "       [[1., 1., 1., 1., 1.],\n",
       "        [1., 1., 1., 1., 1.]],\n",
       "\n",
       "       [[1., 1., 1., 1., 1.],\n",
       "        [1., 1., 1., 1., 1.]],\n",
       "\n",
       "       [[1., 1., 1., 1., 1.],\n",
       "        [1., 1., 1., 1., 1.]]])"
      ]
     },
     "execution_count": 19,
     "metadata": {},
     "output_type": "execute_result"
    }
   ],
   "source": [
    "a = np.ones([4,2,5])\n",
    "a"
   ]
  },
  {
   "cell_type": "markdown",
   "id": "2e4fea36",
   "metadata": {},
   "source": [
    "# .zeros()\n",
    "##### returns an array with zeros."
   ]
  },
  {
   "cell_type": "code",
   "execution_count": 20,
   "id": "6fdd66a1",
   "metadata": {},
   "outputs": [
    {
     "data": {
      "text/plain": [
       "array([0., 0., 0., 0., 0., 0., 0., 0., 0., 0.])"
      ]
     },
     "execution_count": 20,
     "metadata": {},
     "output_type": "execute_result"
    }
   ],
   "source": [
    "a = np.zeros(10)\n",
    "a"
   ]
  },
  {
   "cell_type": "code",
   "execution_count": 22,
   "id": "3ecf83e3",
   "metadata": {},
   "outputs": [
    {
     "data": {
      "text/plain": [
       "array([[0., 0., 0., 0., 0.],\n",
       "       [0., 0., 0., 0., 0.]])"
      ]
     },
     "execution_count": 22,
     "metadata": {},
     "output_type": "execute_result"
    }
   ],
   "source": [
    "a = np.zeros([2,5])\n",
    "a"
   ]
  },
  {
   "cell_type": "code",
   "execution_count": 23,
   "id": "2c685edf",
   "metadata": {},
   "outputs": [
    {
     "data": {
      "text/plain": [
       "array([[[0., 0., 0., 0., 0.],\n",
       "        [0., 0., 0., 0., 0.],\n",
       "        [0., 0., 0., 0., 0.]],\n",
       "\n",
       "       [[0., 0., 0., 0., 0.],\n",
       "        [0., 0., 0., 0., 0.],\n",
       "        [0., 0., 0., 0., 0.]],\n",
       "\n",
       "       [[0., 0., 0., 0., 0.],\n",
       "        [0., 0., 0., 0., 0.],\n",
       "        [0., 0., 0., 0., 0.]],\n",
       "\n",
       "       [[0., 0., 0., 0., 0.],\n",
       "        [0., 0., 0., 0., 0.],\n",
       "        [0., 0., 0., 0., 0.]]])"
      ]
     },
     "execution_count": 23,
     "metadata": {},
     "output_type": "execute_result"
    }
   ],
   "source": [
    "a = np.zeros([4,3,5])\n",
    "a"
   ]
  },
  {
   "cell_type": "markdown",
   "id": "e2b21e6d",
   "metadata": {},
   "source": [
    "# Indexing & Slicing:\n"
   ]
  },
  {
   "cell_type": "markdown",
   "id": "dd178ad1",
   "metadata": {},
   "source": [
    "##### Single dimension:"
   ]
  },
  {
   "cell_type": "code",
   "execution_count": 25,
   "id": "df4d40a2",
   "metadata": {},
   "outputs": [
    {
     "data": {
      "text/plain": [
       "array([1, 2, 3, 4, 5, 6, 7, 8, 9])"
      ]
     },
     "execution_count": 25,
     "metadata": {},
     "output_type": "execute_result"
    }
   ],
   "source": [
    "a = np.arange(1,10)\n",
    "a"
   ]
  },
  {
   "cell_type": "code",
   "execution_count": 26,
   "id": "699ffb4b",
   "metadata": {},
   "outputs": [
    {
     "data": {
      "text/plain": [
       "(4, 6, 9)"
      ]
     },
     "execution_count": 26,
     "metadata": {},
     "output_type": "execute_result"
    }
   ],
   "source": [
    "a[3],a[5],a[-1]"
   ]
  },
  {
   "cell_type": "markdown",
   "id": "fd996953",
   "metadata": {},
   "source": [
    "##### passing another list containing the indexes value; (example below)"
   ]
  },
  {
   "cell_type": "code",
   "execution_count": 28,
   "id": "41c2b2e1",
   "metadata": {},
   "outputs": [
    {
     "data": {
      "text/plain": [
       "array([2, 4, 8])"
      ]
     },
     "execution_count": 28,
     "metadata": {},
     "output_type": "execute_result"
    }
   ],
   "source": [
    "a[[1,3,-2]]"
   ]
  },
  {
   "cell_type": "code",
   "execution_count": 29,
   "id": "50379d01",
   "metadata": {},
   "outputs": [
    {
     "data": {
      "text/plain": [
       "array([1, 2, 3, 4])"
      ]
     },
     "execution_count": 29,
     "metadata": {},
     "output_type": "execute_result"
    }
   ],
   "source": [
    "a[0:4]"
   ]
  },
  {
   "cell_type": "markdown",
   "id": "cd9f41d5",
   "metadata": {},
   "source": [
    "##### 2D array:"
   ]
  },
  {
   "cell_type": "code",
   "execution_count": 33,
   "id": "2ac72ce7",
   "metadata": {},
   "outputs": [
    {
     "data": {
      "text/plain": [
       "array([[ 1,  2,  3,  4,  5],\n",
       "       [ 6,  7,  8,  9, 10]])"
      ]
     },
     "execution_count": 33,
     "metadata": {},
     "output_type": "execute_result"
    }
   ],
   "source": [
    "a = np.arange(1,11).reshape(2,5)\n",
    "a"
   ]
  },
  {
   "cell_type": "markdown",
   "id": "e80bd66e",
   "metadata": {},
   "source": [
    "##### pass the index value in form == (Row, Column)"
   ]
  },
  {
   "cell_type": "markdown",
   "id": "0490367c",
   "metadata": {},
   "source": [
    "##### fetching values 3,4,8,9:"
   ]
  },
  {
   "cell_type": "code",
   "execution_count": 34,
   "id": "0eda555b",
   "metadata": {},
   "outputs": [
    {
     "data": {
      "text/plain": [
       "array([[3, 4],\n",
       "       [8, 9]])"
      ]
     },
     "execution_count": 34,
     "metadata": {},
     "output_type": "execute_result"
    }
   ],
   "source": [
    "a[:,2:4]"
   ]
  },
  {
   "cell_type": "markdown",
   "id": "10740b56",
   "metadata": {},
   "source": [
    "##### fetching only 2nd row:"
   ]
  },
  {
   "cell_type": "code",
   "execution_count": 35,
   "id": "9df82eb2",
   "metadata": {},
   "outputs": [
    {
     "data": {
      "text/plain": [
       "array([[ 6,  7,  8,  9, 10]])"
      ]
     },
     "execution_count": 35,
     "metadata": {},
     "output_type": "execute_result"
    }
   ],
   "source": [
    "a[1:2,:]"
   ]
  },
  {
   "cell_type": "markdown",
   "id": "61af0bab",
   "metadata": {},
   "source": [
    "##### fetching only last column i.e, 5,10:"
   ]
  },
  {
   "cell_type": "code",
   "execution_count": 36,
   "id": "235a198f",
   "metadata": {},
   "outputs": [
    {
     "data": {
      "text/plain": [
       "array([[ 5],\n",
       "       [10]])"
      ]
     },
     "execution_count": 36,
     "metadata": {},
     "output_type": "execute_result"
    }
   ],
   "source": [
    "a[:,4:5]"
   ]
  },
  {
   "cell_type": "markdown",
   "id": "e192dddc",
   "metadata": {},
   "source": [
    "##### 3D array"
   ]
  },
  {
   "cell_type": "code",
   "execution_count": 69,
   "id": "45bc3895",
   "metadata": {},
   "outputs": [
    {
     "data": {
      "text/plain": [
       "array([[[ 1,  2,  3],\n",
       "        [ 4,  5,  6],\n",
       "        [ 7,  8,  9]],\n",
       "\n",
       "       [[10, 11, 12],\n",
       "        [13, 14, 15],\n",
       "        [16, 17, 18]],\n",
       "\n",
       "       [[19, 20, 21],\n",
       "        [22, 23, 24],\n",
       "        [25, 26, 27]]])"
      ]
     },
     "execution_count": 69,
     "metadata": {},
     "output_type": "execute_result"
    }
   ],
   "source": [
    "a = np.arange(1,28).reshape(3,3,3)\n",
    "a"
   ]
  },
  {
   "cell_type": "code",
   "execution_count": 72,
   "id": "8e6481d7",
   "metadata": {},
   "outputs": [
    {
     "data": {
      "text/plain": [
       "array([[13, 14, 15]])"
      ]
     },
     "execution_count": 72,
     "metadata": {},
     "output_type": "execute_result"
    }
   ],
   "source": [
    "a[1,1:2,:]"
   ]
  },
  {
   "cell_type": "code",
   "execution_count": 73,
   "id": "1723e08c",
   "metadata": {},
   "outputs": [
    {
     "data": {
      "text/plain": [
       "array([[[1, 2, 3]],\n",
       "\n",
       "       [[4, 5, 6]],\n",
       "\n",
       "       [[7, 8, 9]]])"
      ]
     },
     "execution_count": 73,
     "metadata": {},
     "output_type": "execute_result"
    }
   ],
   "source": [
    "a=np.arange(1,10).reshape(3,1,3)\n",
    "a"
   ]
  },
  {
   "cell_type": "code",
   "execution_count": 74,
   "id": "f92163b7",
   "metadata": {},
   "outputs": [
    {
     "data": {
      "text/plain": [
       "array([[7, 8, 9]])"
      ]
     },
     "execution_count": 74,
     "metadata": {},
     "output_type": "execute_result"
    }
   ],
   "source": [
    "a[2,:,:]"
   ]
  },
  {
   "cell_type": "code",
   "execution_count": 75,
   "id": "59b27373",
   "metadata": {},
   "outputs": [
    {
     "data": {
      "text/plain": [
       "array([[5, 6]])"
      ]
     },
     "execution_count": 75,
     "metadata": {},
     "output_type": "execute_result"
    }
   ],
   "source": [
    "a[1,:,1:]"
   ]
  },
  {
   "cell_type": "code",
   "execution_count": 76,
   "id": "c19b7e25",
   "metadata": {},
   "outputs": [
    {
     "data": {
      "text/plain": [
       "array([[[4, 5, 6]],\n",
       "\n",
       "       [[7, 8, 9]]])"
      ]
     },
     "execution_count": 76,
     "metadata": {},
     "output_type": "execute_result"
    }
   ],
   "source": [
    "a[1:,:,:]"
   ]
  },
  {
   "cell_type": "markdown",
   "id": "41e13ecd",
   "metadata": {},
   "source": [
    "# .dtype\n",
    "##### returns the data type"
   ]
  },
  {
   "cell_type": "code",
   "execution_count": 77,
   "id": "e6b1516f",
   "metadata": {},
   "outputs": [
    {
     "data": {
      "text/plain": [
       "dtype('int32')"
      ]
     },
     "execution_count": 77,
     "metadata": {},
     "output_type": "execute_result"
    }
   ],
   "source": [
    "a.dtype"
   ]
  },
  {
   "cell_type": "markdown",
   "id": "7c1de252",
   "metadata": {},
   "source": [
    "# .ndim\n",
    "##### returns number of dimension"
   ]
  },
  {
   "cell_type": "code",
   "execution_count": 78,
   "id": "8a120831",
   "metadata": {},
   "outputs": [
    {
     "data": {
      "text/plain": [
       "3"
      ]
     },
     "execution_count": 78,
     "metadata": {},
     "output_type": "execute_result"
    }
   ],
   "source": [
    "a.ndim"
   ]
  },
  {
   "cell_type": "markdown",
   "id": "7550d149",
   "metadata": {},
   "source": [
    "# .shape\n",
    "##### returns the shape of an multi dimension array"
   ]
  },
  {
   "cell_type": "code",
   "execution_count": 79,
   "id": "58ee9899",
   "metadata": {},
   "outputs": [
    {
     "data": {
      "text/plain": [
       "(3, 1, 3)"
      ]
     },
     "execution_count": 79,
     "metadata": {},
     "output_type": "execute_result"
    }
   ],
   "source": [
    "a.shape"
   ]
  },
  {
   "cell_type": "markdown",
   "id": "f369dcf4",
   "metadata": {},
   "source": [
    "# .size\n",
    "##### returns the number of element in an array"
   ]
  },
  {
   "cell_type": "code",
   "execution_count": 80,
   "id": "7d658ecc",
   "metadata": {},
   "outputs": [
    {
     "data": {
      "text/plain": [
       "9"
      ]
     },
     "execution_count": 80,
     "metadata": {},
     "output_type": "execute_result"
    }
   ],
   "source": [
    "a.size"
   ]
  },
  {
   "cell_type": "code",
   "execution_count": null,
   "id": "bed971ad",
   "metadata": {},
   "outputs": [],
   "source": []
  },
  {
   "cell_type": "code",
   "execution_count": null,
   "id": "78c9f794",
   "metadata": {},
   "outputs": [],
   "source": []
  },
  {
   "cell_type": "code",
   "execution_count": null,
   "id": "acf7732d",
   "metadata": {},
   "outputs": [],
   "source": []
  },
  {
   "cell_type": "code",
   "execution_count": null,
   "id": "b3b34588",
   "metadata": {},
   "outputs": [],
   "source": []
  }
 ],
 "metadata": {
  "kernelspec": {
   "display_name": "Python 3 (ipykernel)",
   "language": "python",
   "name": "python3"
  },
  "language_info": {
   "codemirror_mode": {
    "name": "ipython",
    "version": 3
   },
   "file_extension": ".py",
   "mimetype": "text/x-python",
   "name": "python",
   "nbconvert_exporter": "python",
   "pygments_lexer": "ipython3",
   "version": "3.9.7"
  }
 },
 "nbformat": 4,
 "nbformat_minor": 5
}
