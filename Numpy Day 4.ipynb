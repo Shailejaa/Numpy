{
 "cells": [
  {
   "cell_type": "markdown",
   "id": "41ed6d47",
   "metadata": {},
   "source": [
    "# Boolean operators/operations:\n",
    "##### Boolean operators returns boolean value which we can use for filteration."
   ]
  },
  {
   "cell_type": "code",
   "execution_count": 1,
   "id": "986bdb3a",
   "metadata": {},
   "outputs": [],
   "source": [
    "import numpy as np"
   ]
  },
  {
   "cell_type": "code",
   "execution_count": 2,
   "id": "372d0cfd",
   "metadata": {},
   "outputs": [
    {
     "data": {
      "text/plain": [
       "array([0, 1, 2, 3, 4, 5, 6, 7, 8, 9])"
      ]
     },
     "execution_count": 2,
     "metadata": {},
     "output_type": "execute_result"
    }
   ],
   "source": [
    "a = np.arange(10)\n",
    "a"
   ]
  },
  {
   "cell_type": "code",
   "execution_count": 3,
   "id": "e12f2bb3",
   "metadata": {},
   "outputs": [
    {
     "data": {
      "text/plain": [
       "array([False, False, False, False, False, False,  True,  True,  True,\n",
       "        True])"
      ]
     },
     "execution_count": 3,
     "metadata": {},
     "output_type": "execute_result"
    }
   ],
   "source": [
    "a>5"
   ]
  },
  {
   "cell_type": "markdown",
   "id": "648343ef",
   "metadata": {},
   "source": [
    "##### So, here we filtered above operation"
   ]
  },
  {
   "cell_type": "code",
   "execution_count": 6,
   "id": "d43a49c2",
   "metadata": {},
   "outputs": [
    {
     "data": {
      "text/plain": [
       "array([6, 7, 8, 9])"
      ]
     },
     "execution_count": 6,
     "metadata": {},
     "output_type": "execute_result"
    }
   ],
   "source": [
    "a[a>5]"
   ]
  },
  {
   "cell_type": "markdown",
   "id": "4032101a",
   "metadata": {},
   "source": [
    "##### another example:"
   ]
  },
  {
   "cell_type": "code",
   "execution_count": 7,
   "id": "feb498f9",
   "metadata": {},
   "outputs": [
    {
     "data": {
      "text/plain": [
       "array([ 0,  1,  2,  3,  4,  5,  6,  7,  8,  9, 10, 11, 12, 13, 14, 15, 16,\n",
       "       17, 18, 19])"
      ]
     },
     "execution_count": 7,
     "metadata": {},
     "output_type": "execute_result"
    }
   ],
   "source": [
    "a = np.arange(20)\n",
    "a"
   ]
  },
  {
   "cell_type": "code",
   "execution_count": 11,
   "id": "24ce4735",
   "metadata": {},
   "outputs": [
    {
     "data": {
      "text/plain": [
       "array([ True, False,  True, False,  True, False,  True, False,  True,\n",
       "       False,  True, False,  True, False,  True, False,  True, False,\n",
       "        True, False])"
      ]
     },
     "execution_count": 11,
     "metadata": {},
     "output_type": "execute_result"
    }
   ],
   "source": [
    "a % 2 == 0"
   ]
  },
  {
   "cell_type": "markdown",
   "id": "373bd6bf",
   "metadata": {},
   "source": [
    "##### return values which are even"
   ]
  },
  {
   "cell_type": "code",
   "execution_count": 12,
   "id": "c66f4a74",
   "metadata": {},
   "outputs": [
    {
     "data": {
      "text/plain": [
       "array([ 0,  2,  4,  6,  8, 10, 12, 14, 16, 18])"
      ]
     },
     "execution_count": 12,
     "metadata": {},
     "output_type": "execute_result"
    }
   ],
   "source": [
    "a [a%2==0]"
   ]
  },
  {
   "cell_type": "markdown",
   "id": "75ca5cab",
   "metadata": {},
   "source": [
    "##### return values which are odd:"
   ]
  },
  {
   "cell_type": "code",
   "execution_count": 15,
   "id": "451bc292",
   "metadata": {},
   "outputs": [
    {
     "data": {
      "text/plain": [
       "array([ 1,  3,  5,  7,  9, 11, 13, 15, 17, 19])"
      ]
     },
     "execution_count": 15,
     "metadata": {},
     "output_type": "execute_result"
    }
   ],
   "source": [
    "a[~(a%2==0)]"
   ]
  },
  {
   "cell_type": "code",
   "execution_count": 18,
   "id": "e27c3f31",
   "metadata": {},
   "outputs": [
    {
     "data": {
      "text/plain": [
       "array([[ 0,  1,  2,  3,  4],\n",
       "       [ 5,  6,  7,  8,  9],\n",
       "       [10, 11, 12, 13, 14],\n",
       "       [15, 16, 17, 18, 19]])"
      ]
     },
     "execution_count": 18,
     "metadata": {},
     "output_type": "execute_result"
    }
   ],
   "source": [
    "a = np.arange(20).reshape(4,5)\n",
    "a"
   ]
  },
  {
   "cell_type": "markdown",
   "id": "212976d7",
   "metadata": {},
   "source": [
    "##### using more boolean operators: like 'or' = '|'"
   ]
  },
  {
   "cell_type": "code",
   "execution_count": 19,
   "id": "8bb53a5a",
   "metadata": {},
   "outputs": [
    {
     "data": {
      "text/plain": [
       "array([ 0,  1,  2,  3,  4, 17, 18, 19])"
      ]
     },
     "execution_count": 19,
     "metadata": {},
     "output_type": "execute_result"
    }
   ],
   "source": [
    "a[(a<5)|(a>16)]"
   ]
  },
  {
   "cell_type": "markdown",
   "id": "9139aa4b",
   "metadata": {},
   "source": [
    "##### using boolean operator : 'and' = ' '&'"
   ]
  },
  {
   "cell_type": "code",
   "execution_count": 20,
   "id": "a66ec1fe",
   "metadata": {},
   "outputs": [
    {
     "data": {
      "text/plain": [
       "array([0, 1, 2])"
      ]
     },
     "execution_count": 20,
     "metadata": {},
     "output_type": "execute_result"
    }
   ],
   "source": [
    "a[(a<5) & (a<3)]"
   ]
  },
  {
   "cell_type": "code",
   "execution_count": null,
   "id": "0f023e35",
   "metadata": {},
   "outputs": [],
   "source": []
  }
 ],
 "metadata": {
  "kernelspec": {
   "display_name": "Python 3 (ipykernel)",
   "language": "python",
   "name": "python3"
  },
  "language_info": {
   "codemirror_mode": {
    "name": "ipython",
    "version": 3
   },
   "file_extension": ".py",
   "mimetype": "text/x-python",
   "name": "python",
   "nbconvert_exporter": "python",
   "pygments_lexer": "ipython3",
   "version": "3.9.7"
  }
 },
 "nbformat": 4,
 "nbformat_minor": 5
}
